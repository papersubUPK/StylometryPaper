{
  "cells": [
    {
      "cell_type": "code",
      "source": [
        "#Random Forest\n",
        "import numpy as np\n",
        "import pandas as pd\n",
        "from sklearn.model_selection import train_test_split\n",
        "from sklearn.model_selection import StratifiedKFold, GridSearchCV\n",
        "from sklearn.ensemble import RandomForestClassifier\n",
        "from sklearn.metrics import accuracy_score, precision_score, recall_score, f1_score\n",
        "\n",
        "# Load dataset\n",
        "dataset = pd.read_csv('/content/SingleTweets.csv')\n",
        "\n",
        "# NaN values\n",
        "cols_with_nan = dataset.columns[dataset.isna().any()].tolist()\n",
        "for col in cols_with_nan:\n",
        "    if dataset[col].isna().any():\n",
        "        dataset[col] = dataset.groupby('Class')[col].transform(lambda x: x.fillna(x.mode().iloc[0]))\n",
        "    else:\n",
        "        print(f\"\")\n",
        "\n",
        "X = dataset.iloc[:, 1:23].values\n",
        "y = dataset.iloc[:, 24].values\n",
        "\n",
        "# Define feature_names\n",
        "feature_names = dataset.columns[1:46]\n",
        "\n",
        "# Split the data into training, testing, and validation sets\n",
        "X_train, X_temp, y_train, y_temp = train_test_split(X, y, test_size=0.2, random_state=42, stratify=y)\n",
        "X_test, X_val, y_test, y_val = train_test_split(X_temp, y_temp, test_size=0.5, random_state=42, stratify=y_temp)\n",
        "\n",
        "# Define the hyperparameters\n",
        "rf_parameters = {'max_depth': range(1, 5), 'n_estimators': [20, 50, 100]}\n",
        "\n",
        "# Initialize performance metric lists\n",
        "rf_accuracy_scores = []\n",
        "rf_precision_scores = []\n",
        "rf_recall_scores = []\n",
        "rf_f1_scores = []\n",
        "\n",
        "# Initialize a list to store feature importance scores\n",
        "feature_importance_scores = []\n",
        "\n",
        "# Random Forest\n",
        "rf_classifier = RandomForestClassifier(random_state=42)\n",
        "rf_grid_search = GridSearchCV(rf_classifier, rf_parameters, cv=StratifiedKFold(n_splits=10, shuffle=True, random_state=42))\n",
        "rf_grid_search.fit(X_train, y_train)\n",
        "rf_best_params = rf_grid_search.best_params_\n",
        "rf_best_model = RandomForestClassifier(random_state=42, **rf_best_params)\n",
        "\n",
        "# Nested cross-validation on the test set\n",
        "for train_index, val_index in StratifiedKFold(n_splits=10, shuffle=True, random_state=42).split(X_test, y_test):\n",
        "    X_train_cv, X_val_cv = X_test[train_index], X_test[val_index]\n",
        "    y_train_cv, y_val_cv = y_test[train_index], y_test[val_index]\n",
        "\n",
        "    # Ablation Study\n",
        "    ablation_scores = []\n",
        "    for feature_index in range(X_train_cv.shape[1]):\n",
        "        ablated_X_train = np.delete(X_train_cv, feature_index, axis=1)\n",
        "        ablated_X_val = np.delete(X_val_cv, feature_index, axis=1)\n",
        "        rf_best_model.fit(ablated_X_train, y_train_cv)\n",
        "        rf_predictions = rf_best_model.predict(ablated_X_val)\n",
        "        ablation_scores.append(accuracy_score(y_val_cv, rf_predictions))\n",
        "\n",
        "    # Store feature importance scores\n",
        "    feature_importance_scores.append(ablation_scores)\n",
        "\n",
        "    # Evaluate performance metrics\n",
        "    rf_accuracy_scores.append(np.mean(ablation_scores))\n",
        "    rf_precision_scores.append(precision_score(y_val_cv, rf_predictions))\n",
        "    rf_recall_scores.append(recall_score(y_val_cv, rf_predictions))\n",
        "    rf_f1_scores.append(f1_score(y_val_cv, rf_predictions))\n",
        "\n",
        "# Calculate average performance scores\n",
        "rf_average_accuracy = np.mean(rf_accuracy_scores)\n",
        "rf_average_precision = np.mean(rf_precision_scores)\n",
        "rf_average_recall = np.mean(rf_recall_scores)\n",
        "rf_average_f1 = np.mean(rf_f1_scores)\n",
        "rf_std_accuracy = np.std(rf_accuracy_scores)\n",
        "rf_std_precision = np.std(rf_precision_scores)\n",
        "rf_std_recall = np.std(rf_recall_scores)\n",
        "rf_std_f1 = np.std(rf_f1_scores)\n",
        "\n",
        "# Print the average performance scores\n",
        "print(\"Average Accuracy:\", round(rf_average_accuracy,4))\n",
        "print(\"Standard Deviation Accuracy:\", round(rf_std_accuracy,4))\n",
        "print(\"Average Precision:\", round(rf_average_precision,4))\n",
        "print(\"Standard Deviation Precision:\", round(rf_std_precision,4))\n",
        "print(\"Average Recall:\", round(rf_average_recall,4))\n",
        "print(\"Standard Deviation Recall:\", round(rf_std_recall,4))\n",
        "print(\"Average F1-score:\", round(rf_average_f1,4))\n",
        "print(\"Standard Deviation F1-score:\", round(rf_std_f1,4))\n"
      ],
      "metadata": {
        "colab": {
          "base_uri": "https://localhost:8080/"
        },
        "id": "rcsTfssLikHC",
        "outputId": "8d63d0c6-7cfc-4a61-8eaa-d22a83101e10"
      },
      "execution_count": null,
      "outputs": [
        {
          "output_type": "stream",
          "name": "stdout",
          "text": [
            "Average Accuracy: 0.857\n",
            "Standard Deviation Accuracy: 0.0258\n",
            "Average Precision: 0.9077\n",
            "Standard Deviation Precision: 0.0266\n",
            "Average Recall: 0.792\n",
            "Standard Deviation Recall: 0.0527\n",
            "Average F1-score: 0.8448\n",
            "Standard Deviation F1-score: 0.0314\n"
          ]
        }
      ]
    },
    {
      "cell_type": "code",
      "source": [
        "# Select the best-performing features\n",
        "best_feature_indices_rf = np.argsort(np.mean(feature_importance_scores, axis=0))[::-1]\n",
        "\n",
        "num_features_to_display_rf = 10\n",
        "X_best_features_rf = X[:, best_feature_indices_rf[:num_features_to_display_rf]]\n",
        "\n",
        "# Calculate and print feature importance (average ablation scores) with feature names\n",
        "average_importance_scores_rf = np.mean(feature_importance_scores, axis=0)\n",
        "sorted_indices_rf = np.argsort(average_importance_scores_rf)[::-1]\n",
        "\n",
        "print(\"\\nTop Feature Importance with Scores:\")\n",
        "for i in range(num_features_to_display_rf):\n",
        "    feature_index_rf = sorted_indices_rf[i]\n",
        "    importance_score_rf = round(average_importance_scores_rf[feature_index_rf], 5)\n",
        "    print(f\"{feature_names[feature_index_rf]}: {importance_score_rf}\")"
      ],
      "metadata": {
        "colab": {
          "base_uri": "https://localhost:8080/"
        },
        "id": "MLYpRj_F9WH4",
        "outputId": "07c0377d-ccf7-4dec-bea9-146a6229a8b5"
      },
      "execution_count": null,
      "outputs": [
        {
          "output_type": "stream",
          "name": "stdout",
          "text": [
            "\n",
            "Top Feature Importance with Scores:\n",
            "num_uppercase_chars: 0.864\n",
            "count_unique_words: 0.86333\n",
            "count_numbers: 0.86133\n",
            "gunning_fog: 0.86067\n",
            "total_characters: 0.86067\n",
            "coleman_liau_index: 0.86\n",
            "ari: 0.85933\n",
            "count_special_characters: 0.85933\n",
            "num_lowercase_words: 0.858\n",
            "linsear_write: 0.85533\n"
          ]
        }
      ]
    }
  ],
  "metadata": {
    "colab": {
      "provenance": []
    },
    "kernelspec": {
      "display_name": "Python 3",
      "name": "python3"
    },
    "language_info": {
      "name": "python"
    }
  },
  "nbformat": 4,
  "nbformat_minor": 0
}