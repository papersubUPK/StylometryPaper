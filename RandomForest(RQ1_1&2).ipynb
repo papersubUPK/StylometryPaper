{
  "cells": [
    {
      "cell_type": "code",
      "execution_count": null,
      "metadata": {
        "colab": {
          "base_uri": "https://localhost:8080/"
        },
        "id": "KDVwc61pPVn8",
        "outputId": "d0653a20-4fcd-4b2a-b5b2-0fdc609b0d0f"
      },
      "outputs": [
        {
          "output_type": "stream",
          "name": "stdout",
          "text": [
            "\n",
            "Random Forest Test Set:\n",
            "Average Accuracy: 0.9808\n",
            "Average Precision: 0.9894\n",
            "Average Recall: 0.972\n",
            "Average F1-score: 0.9805\n"
          ]
        }
      ],
      "source": [
        "#RandomForest\n",
        "import numpy as np\n",
        "import pandas as pd\n",
        "from sklearn.model_selection import train_test_split, StratifiedKFold, GridSearchCV\n",
        "from sklearn.ensemble import RandomForestClassifier\n",
        "from sklearn.metrics import accuracy_score, precision_score, recall_score, f1_score\n",
        "import joblib\n",
        "\n",
        "# Dataset\n",
        "dataset = pd.read_csv('/content/ReducedAccounts.csv')\n",
        "\n",
        "X = dataset.iloc[:, 1:26].values\n",
        "y = dataset.iloc[:, 26].values\n",
        "\n",
        "# Split data\n",
        "X_train, X_temp, y_train, y_temp = train_test_split(X, y, test_size=0.2, random_state=42, stratify=y)\n",
        "\n",
        "# Define hyperparameters\n",
        "rf_parameters = {'max_depth': range(1, 5), 'n_estimators': [20, 50, 100]}\n",
        "\n",
        "# Cross-validation strategy\n",
        "outer_cv = StratifiedKFold(n_splits=10, shuffle=True, random_state=42)\n",
        "inner_cv = StratifiedKFold(n_splits=10, shuffle=True, random_state=42)\n",
        "\n",
        "# Initialize metrics\n",
        "rf_accuracy_scores = []\n",
        "rf_precision_scores = []\n",
        "rf_recall_scores = []\n",
        "rf_f1_scores = []\n",
        "\n",
        "# Store the best model\n",
        "best_rf_model = None\n",
        "best_rf_score = 0.0\n",
        "\n",
        "# Perform cross-validation\n",
        "for train_index, test_index in outer_cv.split(X_train, y_train):\n",
        "    X_train_fold, X_test_fold = X_train[train_index], X_train[test_index]\n",
        "    y_train_fold, y_test_fold = y_train[train_index], y_train[test_index]\n",
        "\n",
        "    rf_classifier = RandomForestClassifier(random_state=42)\n",
        "    rf_grid_search = GridSearchCV(rf_classifier, rf_parameters, cv=inner_cv)\n",
        "    rf_grid_search.fit(X_train_fold, y_train_fold)\n",
        "    rf_best_params = rf_grid_search.best_params_\n",
        "    rf_best_model = RandomForestClassifier(random_state=42, **rf_best_params)\n",
        "\n",
        "    # Fit best model\n",
        "    rf_best_model.fit(X_train_fold, y_train_fold)\n",
        "\n",
        "    # Evaluation on test set\n",
        "    rf_predictions = rf_best_model.predict(X_test_fold)\n",
        "    current_score = accuracy_score(y_test_fold, rf_predictions)\n",
        "\n",
        "    # Store best model\n",
        "    if current_score > best_rf_score:\n",
        "        best_rf_score = current_score\n",
        "        best_rf_model = rf_best_model\n",
        "\n",
        "    # Metrics for test set\n",
        "    rf_accuracy_scores.append(accuracy_score(y_test_fold, rf_predictions))\n",
        "    rf_precision_scores.append(precision_score(y_test_fold, rf_predictions))\n",
        "    rf_recall_scores.append(recall_score(y_test_fold, rf_predictions))\n",
        "    rf_f1_scores.append(f1_score(y_test_fold, rf_predictions))\n",
        "\n",
        "# Save the best model\n",
        "if best_rf_model is not None:\n",
        "    joblib.dump(best_rf_model, 'best_random_forest_model.pkl')\n",
        "\n",
        "# Test set\n",
        "rf_average_accuracy_test = np.mean(rf_accuracy_scores)\n",
        "rf_average_precision_test = np.mean(rf_precision_scores)\n",
        "rf_average_recall_test = np.mean(rf_recall_scores)\n",
        "rf_average_f1_test = np.mean(rf_f1_scores)\n",
        "\n",
        "# Print Scores\n",
        "print(\"\\nRandom Forest Test Set:\")\n",
        "print(\"Average Accuracy:\", round(rf_average_accuracy_test, 4))\n",
        "print(\"Average Precision:\", round(rf_average_precision_test, 4))\n",
        "print(\"Average Recall:\", round(rf_average_recall_test, 4))\n",
        "print(\"Average F1-score:\", round(rf_average_f1_test, 4))\n"
      ]
    }
  ],
  "metadata": {
    "colab": {
      "provenance": []
    },
    "kernelspec": {
      "display_name": "Python 3",
      "name": "python3"
    },
    "language_info": {
      "name": "python"
    }
  },
  "nbformat": 4,
  "nbformat_minor": 0
}