{
  "cells": [
    {
      "cell_type": "code",
      "source": [
        "#SVMRBF\n",
        "import numpy as np\n",
        "import pandas as pd\n",
        "from sklearn.model_selection import StratifiedKFold, GridSearchCV, train_test_split\n",
        "from sklearn.svm import SVC\n",
        "from sklearn.metrics import accuracy_score, precision_score, recall_score, f1_score\n",
        "from sklearn.model_selection import cross_val_score\n",
        "import joblib\n",
        "\n",
        "# Load dataset\n",
        "filename = '/content/ReducedTweets.csv'\n",
        "dataset = pd.read_csv(filename)\n",
        "\n",
        "X = dataset.iloc[:, 1:16].values\n",
        "y = dataset.iloc[:, 16].values\n",
        "\n",
        "# Hyperparameters\n",
        "svm_rbf_parameters = {'C': [10**i for i in range(-3, 0, 10)], 'gamma': [10**i for i in range(-3, 0, 1)]}\n",
        "\n",
        "# Split the data\n",
        "X_train, X_temp, y_train, y_temp = train_test_split(X, y, test_size=0.2, random_state=42)\n",
        "\n",
        "# Cross-validation strategy\n",
        "outer_cv = StratifiedKFold(n_splits=10, shuffle=True, random_state=42)\n",
        "inner_cv = StratifiedKFold(n_splits=10, shuffle=True, random_state=42)\n",
        "\n",
        "# Initialize\n",
        "svm_rbf_accuracy_scores = []\n",
        "svm_rbf_precision_scores = []\n",
        "svm_rbf_recall_scores = []\n",
        "svm_rbf_f1_scores = []\n",
        "\n",
        "# best model\n",
        "best_svm_rbf_model = None\n",
        "best_svm_rbf_score = 0.0\n",
        "\n",
        "# cross-validation\n",
        "for train_index, test_index in outer_cv.split(X_train, y_train):\n",
        "    X_train_fold, X_test_fold = X_train[train_index], X_train[test_index]\n",
        "    y_train_fold, y_test_fold = y_train[train_index], y_train[test_index]\n",
        "\n",
        "    # SVM RBF\n",
        "    svm_rbf_classifier = SVC(kernel='rbf', random_state=42)\n",
        "    svm_rbf_grid_search = GridSearchCV(svm_rbf_classifier, svm_rbf_parameters, cv=inner_cv)\n",
        "    svm_rbf_grid_search.fit(X_train_fold, y_train_fold)\n",
        "    svm_rbf_best_params = svm_rbf_grid_search.best_params_\n",
        "    svm_rbf_best_model = SVC(kernel='rbf', random_state=42, **svm_rbf_best_params)\n",
        "\n",
        "    # Fit best model on full training set\n",
        "    svm_rbf_best_model.fit(X_train_fold, y_train_fold)\n",
        "\n",
        "    # test set\n",
        "    svm_rbf_predictions = svm_rbf_best_model.predict(X_test_fold)\n",
        "\n",
        "    # Append\n",
        "    svm_rbf_accuracy_scores.append(accuracy_score(y_test_fold, svm_rbf_predictions))\n",
        "    svm_rbf_precision_scores.append(precision_score(y_test_fold, svm_rbf_predictions))\n",
        "    svm_rbf_recall_scores.append(recall_score(y_test_fold, svm_rbf_predictions))\n",
        "    svm_rbf_f1_scores.append(f1_score(y_test_fold, svm_rbf_predictions))\n",
        "\n",
        "    # Store the best model\n",
        "    current_score = accuracy_score(y_test_fold, svm_rbf_predictions)\n",
        "    if current_score > best_svm_rbf_score:\n",
        "        best_svm_rbf_score = current_score\n",
        "        best_svm_rbf_model = svm_rbf_best_model\n",
        "\n",
        "# Save\n",
        "if best_svm_rbf_model is not None:\n",
        "    joblib.dump(best_svm_rbf_model, 'best_svm_rbf_model.pkl')\n",
        "\n",
        "# Calculate\n",
        "svm_rbf_average_accuracy = np.mean(svm_rbf_accuracy_scores)\n",
        "svm_rbf_average_precision = np.mean(svm_rbf_precision_scores)\n",
        "svm_rbf_average_recall = np.mean(svm_rbf_recall_scores)\n",
        "svm_rbf_average_f1 = np.mean(svm_rbf_f1_scores)\n",
        "\n",
        "# Print\n",
        "print(\"\\nSVM RBF Test Set:\")\n",
        "print(\"Average Accuracy:\", svm_rbf_average_accuracy)\n",
        "print(\"Average Precision:\", svm_rbf_average_precision)\n",
        "print(\"Average Recall:\", svm_rbf_average_recall)\n",
        "print(\"Average F1-score:\", svm_rbf_average_f1)"
      ],
      "metadata": {
        "colab": {
          "base_uri": "https://localhost:8080/"
        },
        "id": "5aklizcmhC4K",
        "outputId": "789f863f-7b8a-4471-f877-6a633a3bc8ab"
      },
      "execution_count": null,
      "outputs": [
        {
          "output_type": "stream",
          "name": "stdout",
          "text": [
            "\n",
            "SVM RBF Test Set:\n",
            "Average Accuracy: 0.7411666666666666\n",
            "Average Precision: 0.7549917739213529\n",
            "Average Recall: 0.7138333333333333\n",
            "Average F1-score: 0.7336976022532193\n"
          ]
        }
      ]
    }
  ],
  "metadata": {
    "colab": {
      "provenance": []
    },
    "kernelspec": {
      "display_name": "Python 3",
      "name": "python3"
    },
    "language_info": {
      "name": "python"
    }
  },
  "nbformat": 4,
  "nbformat_minor": 0
}