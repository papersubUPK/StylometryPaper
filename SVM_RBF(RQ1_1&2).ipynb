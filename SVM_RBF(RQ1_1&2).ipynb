{
  "cells": [
    {
      "cell_type": "code",
      "execution_count": 1,
      "metadata": {
        "colab": {
          "base_uri": "https://localhost:8080/"
        },
        "id": "v9LtRUmDc1mm",
        "outputId": "7c27f67d-f54d-46fb-949e-bc940331080d"
      },
      "outputs": [
        {
          "output_type": "stream",
          "name": "stdout",
          "text": [
            "\n",
            "SVM RBF:\n",
            "Average Accuracy: 0.8520888888888886\n",
            "Standard Deviation Accuracy: 0.0\n",
            "Average Precision: 0.8983050847457628\n",
            "Standard Deviation Precision: 0.0\n",
            "Average Recall: 0.8379446640316207\n",
            "Standard Deviation Recall: 1.1102230246251565e-16\n",
            "Average F1-score: 0.867075664621677\n",
            "Standard Deviation F1-score: 0.0\n"
          ]
        }
      ],
      "source": [
        "import numpy as np\n",
        "import pandas as pd\n",
        "from sklearn.model_selection import StratifiedKFold, GridSearchCV\n",
        "from sklearn.svm import SVC\n",
        "from sklearn.metrics import accuracy_score, precision_score, recall_score, f1_score\n",
        "from sklearn.model_selection import cross_val_score, StratifiedKFold\n",
        "from sklearn.model_selection import train_test_split\n",
        "\n",
        "# Load dataset\n",
        "filename = '/content/Accounts.csv'\n",
        "dataset = pd.read_csv(filename)\n",
        "\n",
        "# NaN values\n",
        "cols_with_nan = dataset.columns[dataset.isna().any()].tolist()\n",
        "for col in cols_with_nan:\n",
        "    if dataset[col].isna().any():\n",
        "        dataset[col] = dataset.groupby('Class')[col].transform(lambda x: x.fillna(x.mode().iloc[0]))\n",
        "    else:\n",
        "        print(f\"\")\n",
        "\n",
        "X = dataset.iloc[:, 1:46].values\n",
        "y = dataset.iloc[:, 47].values\n",
        "\n",
        "# Get the names of features\n",
        "feature_names = dataset.columns[1:46]\n",
        "\n",
        "# Hyperparameters for SVM RBF\n",
        "svm_rbf_parameters = {'C': [10**i for i in range(-3, 0, 10)], 'gamma': [10**i for i in range(-3, 0, 1)]}\n",
        "\n",
        "# Split the data into training, testing, and validation sets\n",
        "X_train, X_temp, y_train, y_temp = train_test_split(X, y, test_size=0.2, random_state=42)\n",
        "X_test, X_val, y_test, y_val = train_test_split(X_temp, y_temp, test_size=0.5, random_state=42)\n",
        "\n",
        "# Cross-validation strategy\n",
        "outer_cv = StratifiedKFold(n_splits=10, shuffle=True, random_state=42)\n",
        "inner_cv = StratifiedKFold(n_splits=10, shuffle=True, random_state=42)\n",
        "\n",
        "# Initialize performance metric lists\n",
        "svm_rbf_accuracy_scores = []\n",
        "svm_rbf_precision_scores = []\n",
        "svm_rbf_recall_scores = []\n",
        "svm_rbf_f1_scores = []\n",
        "\n",
        "# store feature importance scores\n",
        "feature_importance_scores = []\n",
        "\n",
        "# Perform nested cross-validation\n",
        "for train_index, test_index in outer_cv.split(X_train, y_train):\n",
        "    X_train_fold, X_test_fold = X_train[train_index], X_train[test_index]\n",
        "    y_train_fold, y_test_fold = y_train[train_index], y_train[test_index]\n",
        "\n",
        "    # SVM RBF\n",
        "    svm_rbf_classifier = SVC(kernel='rbf', random_state=42)\n",
        "    svm_rbf_grid_search = GridSearchCV(svm_rbf_classifier, svm_rbf_parameters, cv=inner_cv)\n",
        "    svm_rbf_grid_search.fit(X_train, y_train)\n",
        "    svm_rbf_best_params = svm_rbf_grid_search.best_params_\n",
        "    svm_rbf_best_model = SVC(kernel='rbf', random_state=42, **svm_rbf_best_params)\n",
        "\n",
        "    # Ablation Study\n",
        "    ablation_scores = []\n",
        "    for feature_index in range(X_train.shape[1]):\n",
        "        ablated_X_train = np.delete(X_train, feature_index, axis=1)\n",
        "        ablated_X_test = np.delete(X_test, feature_index, axis=1)\n",
        "        svm_rbf_best_model.fit(ablated_X_train, y_train)\n",
        "        svm_rbf_predictions = svm_rbf_best_model.predict(ablated_X_test)\n",
        "        ablation_scores.append(accuracy_score(y_test, svm_rbf_predictions))\n",
        "\n",
        "    # Store feature importance scores\n",
        "    feature_importance_scores.append(ablation_scores)\n",
        "\n",
        "    # Evaluate SVM RBF performance metrics\n",
        "    svm_rbf_accuracy_scores.append(np.mean(ablation_scores))\n",
        "    svm_rbf_precision_scores.append(precision_score(y_test, svm_rbf_predictions))\n",
        "    svm_rbf_recall_scores.append(recall_score(y_test, svm_rbf_predictions))\n",
        "    svm_rbf_f1_scores.append(f1_score(y_test, svm_rbf_predictions))\n",
        "\n",
        "# Calculate average performance\n",
        "svm_rbf_average_accuracy= np.mean(svm_rbf_accuracy_scores)\n",
        "svm_rbf_average_precision = np.mean(svm_rbf_precision_scores)\n",
        "svm_rbf_average_recall = np.mean(svm_rbf_recall_scores)\n",
        "svm_rbf_average_f1 = np.mean(svm_rbf_f1_scores)\n",
        "svm_rbf_std_accuracy= np.std(svm_rbf_accuracy_scores)\n",
        "svm_rbf_std_precision = np.std(svm_rbf_precision_scores)\n",
        "svm_rbf_std_recall = np.std(svm_rbf_recall_scores)\n",
        "svm_rbf_std_f1 = np.std(svm_rbf_f1_scores)\n",
        "\n",
        "# Print\n",
        "print(\"\\nSVM RBF:\")\n",
        "print(\"Average Accuracy:\", svm_rbf_average_accuracy)\n",
        "print(\"Standard Deviation Accuracy:\", svm_rbf_std_accuracy)\n",
        "print(\"Average Precision:\", svm_rbf_average_precision)\n",
        "print(\"Standard Deviation Precision:\", svm_rbf_std_precision)\n",
        "print(\"Average Recall:\", svm_rbf_average_recall)\n",
        "print(\"Standard Deviation Recall:\", svm_rbf_std_recall)\n",
        "print(\"Average F1-score:\", svm_rbf_average_f1)\n",
        "print(\"Standard Deviation F1-score:\", svm_rbf_std_f1)"
      ]
    },
    {
      "cell_type": "code",
      "execution_count": 3,
      "metadata": {
        "colab": {
          "base_uri": "https://localhost:8080/"
        },
        "id": "znU6J2vq9kaA",
        "outputId": "6a69114d-8951-47b7-a790-d0998e7c3437"
      },
      "outputs": [
        {
          "output_type": "stream",
          "name": "stdout",
          "text": [
            "\n",
            "Top Feature Importance with Scores:\n",
            "Total Characters Mean: 0.876\n",
            " Flesch Reading Ease STD: 0.87\n",
            "Coleman Liau Index Mean: 0.854\n",
            "Gunning Fog Mean: 0.854\n",
            "Count Sentences Mean: 0.852\n",
            " Num Uppercase Chars Mean: 0.852\n",
            " Count Emojis Mean: 0.852\n",
            "Count Emojis STD: 0.852\n",
            " Num lowercase Words Mean: 0.852\n",
            " Num lowercase Words STD: 0.852\n"
          ]
        }
      ],
      "source": [
        "# Select the best-performing features\n",
        "best_feature_indices = np.argsort(np.mean(feature_importance_scores, axis=0))[::-1]\n",
        "num_features_to_display = 10\n",
        "\n",
        "X_best_features = X[:, best_feature_indices[:num_features_to_display]]\n",
        "\n",
        "# Calculate and print feature importance with feature names\n",
        "average_importance_scores = np.mean(feature_importance_scores, axis=0)\n",
        "sorted_indices = np.argsort(average_importance_scores)[::-1]\n",
        "\n",
        "print(\"\\nTop Feature Importance with Scores:\")\n",
        "for i in range(num_features_to_display):\n",
        "    feature_index = sorted_indices[i]\n",
        "    importance_score = round(average_importance_scores[feature_index], 5)\n",
        "    print(f\"{feature_names[feature_index]}: {importance_score}\")"
      ]
    }
  ],
  "metadata": {
    "colab": {
      "provenance": []
    },
    "kernelspec": {
      "display_name": "Python 3",
      "name": "python3"
    },
    "language_info": {
      "name": "python"
    }
  },
  "nbformat": 4,
  "nbformat_minor": 0
}