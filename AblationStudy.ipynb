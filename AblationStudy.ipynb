{
  "nbformat": 4,
  "nbformat_minor": 0,
  "metadata": {
    "colab": {
      "provenance": []
    },
    "kernelspec": {
      "name": "python3",
      "display_name": "Python 3"
    },
    "language_info": {
      "name": "python"
    }
  },
  "cells": [
    {
      "cell_type": "code",
      "source": [
        "import numpy as np\n",
        "import pandas as pd\n",
        "from sklearn.model_selection import StratifiedKFold\n",
        "from sklearn.metrics import accuracy_score\n",
        "from sklearn.linear_model import LogisticRegression\n",
        "from sklearn.svm import SVC\n",
        "from sklearn.tree import DecisionTreeClassifier\n",
        "from sklearn.ensemble import RandomForestClassifier\n",
        "from sklearn.model_selection import train_test_split\n",
        "\n",
        "def perform_ablation(model, X, y, cv, feature_count):\n",
        "    ablation_scores = []\n",
        "\n",
        "    for feature_index in range(feature_count):\n",
        "        ablation_fold_scores = []\n",
        "\n",
        "        for train_index, test_index in cv.split(X, y):\n",
        "            ablated_X_train, ablated_X_test = X[train_index].copy(), X[test_index].copy()\n",
        "            ablated_X_train[:, feature_index] = 0\n",
        "            ablated_X_test[:, feature_index] = 0\n",
        "\n",
        "            y_train, y_test = y[train_index], y[test_index]\n",
        "\n",
        "            ablated_model = model\n",
        "            ablated_model.fit(ablated_X_train, y_train)\n",
        "\n",
        "            # Evaluation\n",
        "            ablation_predictions = ablated_model.predict(ablated_X_test)\n",
        "            ablation_accuracy = accuracy_score(y_test, ablation_predictions)\n",
        "            ablation_fold_scores.append(ablation_accuracy)\n",
        "\n",
        "        # Average across folds\n",
        "        ablation_scores.append(np.mean(ablation_fold_scores))\n",
        "\n",
        "    return ablation_scores\n",
        "\n",
        "# Dataset\n",
        "dataset = pd.read_csv('/content/SingleTweets.csv')\n",
        "X = dataset.iloc[:, 1:22].values\n",
        "y = dataset.iloc[:, 22].values\n",
        "\n",
        "# cross-validation & Datasplitting\n",
        "cv = StratifiedKFold(n_splits=10, shuffle=True, random_state=42)\n",
        "X_train, X_test, y_train, y_test = train_test_split(X, y, test_size=0.2, random_state=42, stratify=y)\n",
        "\n",
        "# Models\n",
        "models = [\n",
        "\n",
        "    LogisticRegression(random_state=42),\n",
        "    DecisionTreeClassifier(random_state=42),\n",
        "    RandomForestClassifier(random_state=42),\n",
        "    SVC(kernel='linear', random_state=42),\n",
        "    SVC(kernel='rbf', random_state=42)\n",
        "]\n",
        "\n",
        "# Perform ablation\n",
        "for model in models:\n",
        "    model_name = type(model).__name__\n",
        "    ablation_scores = perform_ablation(model, X, y, cv, X.shape[1])\n",
        "\n",
        "    # Print\n",
        "    feature_importance = pd.DataFrame({'Feature': dataset.columns[1:22], 'Average_Accuracy': ablation_scores})\n",
        "    feature_importance = feature_importance.sort_values(by='Average_Accuracy', ascending=False)\n",
        "    print(f\"\\nFeature Importance ({model_name}):\")\n",
        "    print(feature_importance)\n"
      ],
      "metadata": {
        "id": "6xFhMgZfr16X"
      },
      "execution_count": null,
      "outputs": []
    }
  ]
}