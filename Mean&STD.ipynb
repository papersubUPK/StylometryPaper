{
  "nbformat": 4,
  "nbformat_minor": 0,
  "metadata": {
    "colab": {
      "provenance": []
    },
    "kernelspec": {
      "name": "python3",
      "display_name": "Python 3"
    },
    "language_info": {
      "name": "python"
    }
  },
  "cells": [
    {
      "cell_type": "code",
      "execution_count": null,
      "metadata": {
        "id": "k3eLwyMcRbG1"
      },
      "outputs": [],
      "source": [
        "import pandas as pd\n",
        "\n",
        "# read the dataset from a CSV file\n",
        "df = pd.read_csv('/content/StylometricFeatures.csv')\n",
        "\n",
        "# Save Features's Mean and STD (total 44 attributes) in the same Sequence as caculated.\n",
        "with open('/content/Accounts.csv', 'w') as out_file:\n",
        "    out_file.write(\"Account, NumberOfTotalCharactersMean, NumberOfTotalCharactersStd, NumberOfUppercaseCharactersMean,NumberOfUppercaseCharactersStd, NumberOfLowercaseCharactersMean,NumberOfLowercaseCharactersStd, NumberOfSpecialCharactersMean, NumberOfSpecialCharactersStd, NumberOfNumbersMean, NumberOfNumbersStd, NumberOfBlanksMean, NumberOfBlanksStd, NumberOfWordsMean, NumberOfWordsStd, LengthOfWordsMean,LengthOfWordsStd, NumberOfPropositionsMean, NumberOfPropositionsStd, PropositionsLengthMean, PropositionsLengthStd, NumberOfPunctuationCharactersMean, NumberOfPunctuationCharactersStd, NumberOfLowercaseWordsMean, NumberOfLowercaseWordsStd, NumberOfUppercaseWordsMean,NumberOfUppercaseWordsStd, VocabularyRichnessMean, VocabularyRichnessStd, FleschKincaidGradeLevelMean, FleschKincaidGradeLevelStd, FleschReadingEaseMean,FleschReadingEaseStd, DaleChallReadabilityMean, DaleChallReadabilityStd, AutomatedReadabilityIndexMean, AutomatedReadabilityIndexStd, ColemanLiauIndexMean, ColemanLiauIndexStd, GunningFogMean, GunningFogStd,SMOG(SimpleMeasureOfGobbledygookMean,SMOG(SimpleMeasureOfGobbledygookStd,LinsearWriteMean,LinsearWriteStd,Class\\n\")\n",
        "\n",
        "    # Calculate Mean, STD based for all Accounts based on all 22 features.\n",
        "    for Account, group in df.groupby('Account'):\n",
        "        out_file.write(f\"{Account},{group['NumberOfTotalCharacters'].mean()},{group['NumberOfTotalCharacters'].std(ddof=0)},{group['NumberOfUppercaseCharacters'].mean()},{group['NumberOfUppercaseCharacters'].std(ddof=0)},{group['NumberOfLowercaseCharacters'].mean()},{group['NumberOfLowercaseCharacters'].std(ddof=0)},{group['NumberOfSpecialCharacters'].mean()},{group['NumberOfSpecialCharacters'].std(ddof=0)},{group['NumberOfNumbers'].mean()},{group['NumberOfNumbers'].std(ddof=0)},{group['NumberOfBlanks'].mean()},{group['NumberOfBlanks'].std(ddof=0)},{group['NumberOfWords'].mean()},{group['NumberOfWords'].std(ddof=0)},{group['AverageLengthOfWords'].mean()},{group['AverageLengthOfWords'].std(ddof=0)},{group['NumberOfPropositions'].mean()},{group['NumberOfPropositions'].std(ddof=0)},{group['AverageLengthOfPropositions'].mean()},{group['AverageLengthOfPropositions'].std(ddof=0)},{group['NumberOfPunctuationCharacters'].mean()},{group['NumberOfPunctuationCharacters'].std(ddof=0)},{group['NumberOfLowercaseWords'].mean()},{group['NumberOfLowercaseWords'].std(ddof=0)},{group['NumberOfUppercaseWords'].mean()},{group['NumberOfUppercaseWords'].std(ddof=0)},{group['VocabularyRichness'].mean()},{group['VocabularyRichness'].std(ddof=0)},{group['Flesch Kincaid Grade Level'].mean()},{group['Flesch Kincaid Grade Level'].std(ddof=0)},{group['Flesch Reading Ease'].mean()},{group['Flesch Reading Ease'].std(ddof=0)},{group['Dale Chall Readability'].mean()},{group['Dale Chall Readability'].std(ddof=0)},{group['Automated Readability Index'].mean()},{group['Automated Readability Index'].std(ddof=0)},{group['Coleman Liau Index'].mean()},{group['Coleman Liau Index'].std(ddof=0)},{group['Gunning Fog'].mean()},{group['Gunning Fog'].std(ddof=0)},{group['SMOG(Simple Measure of Gobbledygook)'].mean()},{group['SMOG(Simple Measure of Gobbledygook)'].std(ddof=0)},{group['Linsear Write'].mean()},{group['Linsear Write'].std(ddof=0)},{group['Class'].iloc[0]}\\n\")\n"
      ]
    }
  ]
}