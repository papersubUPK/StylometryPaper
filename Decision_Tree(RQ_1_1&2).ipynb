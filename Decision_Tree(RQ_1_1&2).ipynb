{
  "nbformat": 4,
  "nbformat_minor": 0,
  "metadata": {
    "colab": {
      "provenance": []
    },
    "kernelspec": {
      "name": "python3",
      "display_name": "Python 3"
    },
    "language_info": {
      "name": "python"
    }
  },
  "cells": [
    {
      "cell_type": "code",
      "source": [
        "#DecisionTree\n",
        "import numpy as np\n",
        "import pandas as pd\n",
        "from sklearn.model_selection import StratifiedKFold, GridSearchCV\n",
        "from sklearn.metrics import accuracy_score, precision_score, recall_score, f1_score\n",
        "from sklearn.tree import DecisionTreeClassifier\n",
        "from sklearn.model_selection import train_test_split\n",
        "import joblib\n",
        "\n",
        "# Load dataset\n",
        "filename = '/content/ReducedTweets.csv'\n",
        "dataset = pd.read_csv(filename)\n",
        "\n",
        "X = dataset.iloc[:, 1:16].values\n",
        "y = dataset.iloc[:, 16].values\n",
        "\n",
        "# Hyperparameters\n",
        "dt_parameters = {'max_depth': range(1, 5), 'criterion': ['gini', 'entropy']}\n",
        "\n",
        "# Split the data\n",
        "X_train, X_temp, y_train, y_temp = train_test_split(X, y, test_size=0.2, random_state=42, stratify=y)\n",
        "\n",
        "# Cross-validation strategy\n",
        "outer_cv = StratifiedKFold(n_splits=10, shuffle=True, random_state=42)\n",
        "inner_cv = StratifiedKFold(n_splits=10, shuffle=True, random_state=42)\n",
        "\n",
        "# Initialize\n",
        "dt_accuracy_scores_test = []\n",
        "dt_precision_scores_test = []\n",
        "dt_recall_scores_test = []\n",
        "dt_f1_scores_test = []\n",
        "\n",
        "# Storing the best model\n",
        "best_dt_model_test = None\n",
        "best_dt_score_test = 0.0\n",
        "\n",
        "# Cross-validation\n",
        "for train_index, test_index in outer_cv.split(X_train, y_train):\n",
        "    X_train_fold, X_test_fold = X_train[train_index], X_train[test_index]\n",
        "    y_train_fold, y_test_fold = y_train[train_index], y_train[test_index]\n",
        "\n",
        "    # Decision Tree\n",
        "    dt_classifier = DecisionTreeClassifier(random_state=42)\n",
        "    dt_grid_search = GridSearchCV(dt_classifier, dt_parameters, cv=inner_cv)\n",
        "    dt_grid_search.fit(X_train_fold, y_train_fold)\n",
        "    dt_best_params = dt_grid_search.best_params_\n",
        "    dt_best_model = DecisionTreeClassifier(random_state=42, **dt_best_params)\n",
        "\n",
        "    # Fit the best model on training set\n",
        "    dt_best_model.fit(X_train_fold, y_train_fold)\n",
        "\n",
        "    # Evaluation on test set\n",
        "    dt_predictions_test = dt_best_model.predict(X_test_fold)\n",
        "\n",
        "    # Append metrics\n",
        "    dt_accuracy_scores_test.append(accuracy_score(y_test_fold, dt_predictions_test))\n",
        "    dt_precision_scores_test.append(precision_score(y_test_fold, dt_predictions_test))\n",
        "    dt_recall_scores_test.append(recall_score(y_test_fold, dt_predictions_test))\n",
        "    dt_f1_scores_test.append(f1_score(y_test_fold, dt_predictions_test))\n",
        "\n",
        "    # Store the model\n",
        "    current_score = accuracy_score(y_test_fold, dt_predictions_test)\n",
        "    if current_score > best_dt_score_test:\n",
        "        best_dt_score_test = current_score\n",
        "        best_dt_model_test = dt_best_model\n",
        "\n",
        "# Save the best model\n",
        "if best_dt_model_test is not None:\n",
        "    joblib.dump(best_dt_model_test, 'best_decision_tree_model_test.pkl')\n",
        "\n",
        "# Calculate\n",
        "dt_average_accuracy_test = np.mean(dt_accuracy_scores_test)\n",
        "dt_average_precision_test = np.mean(dt_precision_scores_test)\n",
        "dt_average_recall_test = np.mean(dt_recall_scores_test)\n",
        "dt_average_f1_test = np.mean(dt_f1_scores_test)\n",
        "\n",
        "# Print\n",
        "print(\"\\nDecision Tree (Test Set):\")\n",
        "print(\"Average Accuracy:\", round(dt_average_accuracy_test, 4))\n",
        "print(\"Average Precision:\", round(dt_average_precision_test, 4))\n",
        "print(\"Average Recall:\", round(dt_average_recall_test, 4))\n",
        "print(\"Average F1-score:\", round(dt_average_f1_test, 4))\n"
      ],
      "metadata": {
        "id": "XG9ELUwv79S_",
        "colab": {
          "base_uri": "https://localhost:8080/"
        },
        "outputId": "0cc364d0-8bbb-4750-df36-9e56c786b22b"
      },
      "execution_count": null,
      "outputs": [
        {
          "output_type": "stream",
          "name": "stdout",
          "text": [
            "\n",
            "Decision Tree (Test Set):\n",
            "Average Accuracy: 0.8293\n",
            "Average Precision: 0.869\n",
            "Average Recall: 0.777\n",
            "Average F1-score: 0.8198\n"
          ]
        }
      ]
    }
  ]
}