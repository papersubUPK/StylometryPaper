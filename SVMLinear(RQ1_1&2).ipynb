{
  "cells": [
    {
      "cell_type": "code",
      "source": [
        "#SVMLinear\n",
        "import numpy as np\n",
        "import pandas as pd\n",
        "from sklearn.model_selection import StratifiedKFold, GridSearchCV, train_test_split\n",
        "from sklearn.svm import SVC\n",
        "from sklearn.metrics import accuracy_score, precision_score, recall_score, f1_score\n",
        "from sklearn.model_selection import cross_val_score\n",
        "import joblib\n",
        "\n",
        "# dataset\n",
        "filename = '/content/SingleTweets.csv'\n",
        "dataset = pd.read_csv(filename)\n",
        "\n",
        "X = dataset.iloc[:, 1:22].values\n",
        "y = dataset.iloc[:, 22].values\n",
        "\n",
        "# Hyperparameters\n",
        "svm_parameters = {'C': [10**i for i in range(-3, 0, 10)]}\n",
        "\n",
        "# Split the data\n",
        "X_train, X_temp, y_train, y_temp = train_test_split(X, y, test_size=0.2, random_state=42)\n",
        "\n",
        "# Strategy\n",
        "outer_cv = StratifiedKFold(n_splits=10, shuffle=True, random_state=42)\n",
        "inner_cv = StratifiedKFold(n_splits=10, shuffle=True, random_state=42)\n",
        "\n",
        "# Initialize\n",
        "svm_linear_accuracy_scores = []\n",
        "svm_linear_precision_scores = []\n",
        "svm_linear_recall_scores = []\n",
        "svm_linear_f1_scores = []\n",
        "\n",
        "# best model\n",
        "best_svm_linear_model = None\n",
        "best_svm_linear_score = 0.0\n",
        "\n",
        "# Cross-validation\n",
        "for train_index, test_index in outer_cv.split(X_train, y_train):\n",
        "    X_train_fold, X_test_fold = X_train[train_index], X_train[test_index]\n",
        "    y_train_fold, y_test_fold = y_train[train_index], y_train[test_index]\n",
        "\n",
        "    # SVM Linear\n",
        "    svm_linear_classifier = SVC(kernel='linear', random_state=42)\n",
        "    svm_linear_grid_search = GridSearchCV(svm_linear_classifier, svm_parameters, cv=inner_cv)\n",
        "    svm_linear_grid_search.fit(X_train_fold, y_train_fold)\n",
        "    svm_linear_best_params = svm_linear_grid_search.best_params_\n",
        "    svm_linear_best_model = SVC(kernel='linear', random_state=42, **svm_linear_best_params)\n",
        "\n",
        "    # Fit best model on full training set\n",
        "    svm_linear_best_model.fit(X_train_fold, y_train_fold)\n",
        "\n",
        "    # test set\n",
        "    svm_linear_predictions = svm_linear_best_model.predict(X_test_fold)\n",
        "\n",
        "    # performance metrics\n",
        "    svm_linear_accuracy_scores.append(accuracy_score(y_test_fold, svm_linear_predictions))\n",
        "    svm_linear_precision_scores.append(precision_score(y_test_fold, svm_linear_predictions))\n",
        "    svm_linear_recall_scores.append(recall_score(y_test_fold, svm_linear_predictions))\n",
        "    svm_linear_f1_scores.append(f1_score(y_test_fold, svm_linear_predictions))\n",
        "\n",
        "    # Store the best model\n",
        "    current_score = accuracy_score(y_test_fold, svm_linear_predictions)\n",
        "    if current_score > best_svm_linear_score:\n",
        "        best_svm_linear_score = current_score\n",
        "        best_svm_linear_model = svm_linear_best_model\n",
        "\n",
        "# Save best model\n",
        "if best_svm_linear_model is not None:\n",
        "    joblib.dump(best_svm_linear_model, 'best_svm_linear_model.pkl')\n",
        "\n",
        "# Calculate on test set\n",
        "svm_linear_average_accuracy = np.mean(svm_linear_accuracy_scores)\n",
        "svm_linear_average_precision = np.mean(svm_linear_precision_scores)\n",
        "svm_linear_average_recall = np.mean(svm_linear_recall_scores)\n",
        "svm_linear_average_f1 = np.mean(svm_linear_f1_scores)\n",
        "\n",
        "# Print\n",
        "print(\"\\nSVM Linear Test Set:\")\n",
        "print(\"Average Accuracy:\", svm_linear_average_accuracy)\n",
        "print(\"Average Precision:\", svm_linear_average_precision)\n",
        "print(\"Average Recall:\", svm_linear_average_recall)\n",
        "print(\"Average F1-score:\", svm_linear_average_f1)\n"
      ],
      "metadata": {
        "colab": {
          "base_uri": "https://localhost:8080/"
        },
        "id": "m-Wyq7rgZ0ry",
        "outputId": "393e80e5-8f5b-4f59-bbbc-30c126b2d778"
      },
      "execution_count": null,
      "outputs": [
        {
          "output_type": "stream",
          "name": "stdout",
          "text": [
            "\n",
            "SVM Linear Test Set:\n",
            "Average Accuracy: 0.85375\n",
            "Average Precision: 0.8627143783010578\n",
            "Average Recall: 0.8413074568725655\n",
            "Average F1-score: 0.8517582422512969\n"
          ]
        }
      ]
    }
  ],
  "metadata": {
    "colab": {
      "provenance": []
    },
    "kernelspec": {
      "display_name": "Python 3",
      "name": "python3"
    },
    "language_info": {
      "name": "python"
    }
  },
  "nbformat": 4,
  "nbformat_minor": 0
}