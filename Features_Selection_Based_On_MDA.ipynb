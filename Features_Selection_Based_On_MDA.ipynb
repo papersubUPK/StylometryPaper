{
  "nbformat": 4,
  "nbformat_minor": 0,
  "metadata": {
    "colab": {
      "provenance": []
    },
    "kernelspec": {
      "name": "python3",
      "display_name": "Python 3"
    },
    "language_info": {
      "name": "python"
    }
  },
  "cells": [
    {
      "cell_type": "code",
      "source": [
        "import numpy as np\n",
        "import pandas as pd\n",
        "from sklearn.ensemble import RandomForestRegressor\n",
        "from sklearn.inspection import permutation_importance\n",
        "from matplotlib import pyplot as plt\n",
        "\n",
        "# Load the dataset\n",
        "#filename = '/content/Accounts.csv'\n",
        "filename = '/content/SingleTweets.csv'\n",
        "dataset = pd.read_csv(filename)\n",
        "\n",
        "# Remove NaN values\n",
        "cols_with_nan = dataset.columns[dataset.isna().any()].tolist()\n",
        "for col in cols_with_nan:\n",
        "    if dataset[col].isna().any():\n",
        "        dataset[col] = dataset.groupby('Class')[col].transform(lambda x: x.fillna(x.mode().iloc[0]))\n",
        "    else:\n",
        "        print(f\"\")\n",
        "\n",
        "if \"SingleTweets\" in filename:\n",
        "    X = dataset.iloc[:, 1:22].values\n",
        "    y = dataset.iloc[:, 22].values\n",
        "elif \"Accounts\" in filename:\n",
        "    X = dataset.iloc[:, 1:43].values\n",
        "    y = dataset.iloc[:, 43].values\n",
        "else:\n",
        "    print(\"No file is chosen\")\n",
        "\n",
        "# RandomForestRegressor with oob_score=True\n",
        "rf = RandomForestRegressor(n_estimators=100, oob_score=True, random_state=42)\n",
        "\n",
        "# Fit the model\n",
        "rf.fit(X, y)\n",
        "\n",
        "# Perform permutation importance using OOB samples\n",
        "result = permutation_importance(rf, X, y, n_repeats=10, random_state=42)\n",
        "\n",
        "# Sort the features based on permutation importance\n",
        "sorted_idx = result.importances_mean.argsort()\n",
        "\n",
        "# Indices of the top features\n",
        "if \"SingleTweets\" in filename:\n",
        "    indices = sorted_idx[-15:]\n",
        "else:\n",
        "    indices = sorted_idx[-25:]\n",
        "\n",
        "# Select only the top features and \"Account/Tweets\" and \"Class\" columns\n",
        "selected_columns = ['Tweet', 'Class'] + dataset.columns[1:43][indices].tolist()\n",
        "dataset_selected = dataset[selected_columns]\n",
        "\n",
        "# Save the selected dataset to a CSV file\n",
        "dataset_selected.to_csv('/content/ReducedTweets.csv', index=False)\n",
        "\n",
        "# feature importances\n",
        "plt.rcParams.update({'figure.figsize': (6.0, 8.0), 'figure.dpi': 600})\n",
        "plt.rcParams.update({'font.size': 8})\n",
        "\n",
        "# Plotting\n",
        "plt.barh(dataset_selected.columns[2:], result.importances_mean[indices])\n",
        "plt.ylabel(\"Features\")\n",
        "plt.xlabel(\"Importance Score\")\n",
        "plt.tick_params(axis='both', which='major', labelsize=8)\n",
        "\n",
        "# Annotatation\n",
        "for i, value in enumerate(result.importances_mean[indices]):\n",
        "    plt.text(value, i, f\"{value:.4f}\", va='center', fontsize=6)\n",
        "plt.show()\n"
      ],
      "metadata": {
        "id": "ggeOjOnrHZzg"
      },
      "execution_count": null,
      "outputs": []
    }
  ]
}